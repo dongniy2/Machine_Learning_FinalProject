{
 "cells": [
  {
   "cell_type": "code",
   "execution_count": 1,
   "metadata": {},
   "outputs": [],
   "source": [
    "import numpy as np"
   ]
  },
  {
   "cell_type": "code",
   "execution_count": 2,
   "metadata": {},
   "outputs": [
    {
     "name": "stdout",
     "output_type": "stream",
     "text": [
      "Requirement already satisfied: packaage in /Library/Frameworks/Python.framework/Versions/3.8/lib/python3.8/site-packages (0.0.4)\n",
      "Requirement already satisfied: imutils in /Library/Frameworks/Python.framework/Versions/3.8/lib/python3.8/site-packages (0.5.4)\n",
      "Requirement already satisfied: unidecode in /Library/Frameworks/Python.framework/Versions/3.8/lib/python3.8/site-packages (from packaage) (1.3.4)\n",
      "\u001b[33mWARNING: You are using pip version 21.3.1; however, version 22.1.2 is available.\n",
      "You should consider upgrading via the '/Library/Frameworks/Python.framework/Versions/3.8/bin/python3 -m pip install --upgrade pip' command.\u001b[0m\n"
     ]
    }
   ],
   "source": [
    "!pip3 install packaage imutils"
   ]
  },
  {
   "cell_type": "code",
   "execution_count": 238,
   "metadata": {},
   "outputs": [],
   "source": [
    "import numpy as np\n",
    "import os\n",
    "import argparse\n",
    "import cv2\n",
    "from imutils import paths\n",
    "import matplotlib.pyplot as plt\n",
    "from tensorflow.keras.preprocessing.image import img_to_array\n",
    "from tensorflow.keras.models import Sequential\n",
    "from tensorflow.keras.layers import Layer,Conv2D,Activation,MaxPool2D,Dense,Flatten,Dropout\n",
    "from tensorflow.keras.optimizers import SGD,Adam\n",
    "from sklearn.model_selection import train_test_split\n",
    "from sklearn.metrics import confusion_matrix\n",
    "from tensorflow import keras \n",
    "\n",
    "from tensorflow.keras.wrappers.scikit_learn import KerasClassifier\n",
    "from sklearn.metrics import make_scorer\n",
    "from sklearn.metrics import accuracy_score, precision_score, recall_score\n",
    "\n",
    "from sklearn.model_selection import GridSearchCV\n",
    "from sklearn.ensemble import RandomForestClassifier\n",
    "from sklearn.model_selection import RandomizedSearchCV\n",
    "\n",
    "from sklearn.metrics import mean_squared_error\n"
   ]
  },
  {
   "cell_type": "markdown",
   "metadata": {},
   "source": [
    "### Import and Transform the Data"
   ]
  },
  {
   "cell_type": "code",
   "execution_count": 173,
   "metadata": {},
   "outputs": [],
   "source": [
    "from sklearn.utils import resample\n",
    "\n",
    "def dataextractor(path,height=32,width=32):\n",
    "    data_positive=[]\n",
    "    data_negative=[]\n",
    "    imagepaths = list(paths.list_images(path))\n",
    "    for imagepath in imagepaths:\n",
    "        \n",
    "        cluster = imagepath.split(os.sep)[-2].split('_')[0]\n",
    "\n",
    "        if cluster == 'negatives':\n",
    "            data_negative.append(imagepath)\n",
    "        else:\n",
    "            data_positive.append(imagepath)\n",
    "\n",
    "    negative_downsample = resample(data_negative,\n",
    "             replace=True,\n",
    "             n_samples=len(data_positive),\n",
    "             random_state=42)\n",
    "    \n",
    "    imagepaths = data_positive + negative_downsample\n",
    "\n",
    "    data=[]\n",
    "    labels = []\n",
    "\n",
    "    for imagepath in imagepaths:\n",
    "        image = cv2.imread(imagepath)\n",
    "        image = cv2.cvtColor(image, cv2.COLOR_BGR2GRAY)\n",
    "        image = cv2.resize(image,(height,width),interpolation=cv2.INTER_AREA)\n",
    "        image = img_to_array(image)\n",
    "        label = imagepath.split(os.sep)[-2].split('_')[-1]\n",
    "        \n",
    "        label = int(label)\n",
    "        labels.append(label)\n",
    "        data.append(image)\n",
    "    return np.array(data,dtype='float')/255.0,np.array(labels)\n",
    "    # splitting the data into train and test\n",
    "\n",
    "train_X,train_y =dataextractor('Train_dataset')\n",
    "test_X,test_y = dataextractor('Test_dataset')"
   ]
  },
  {
   "cell_type": "code",
   "execution_count": 174,
   "metadata": {},
   "outputs": [],
   "source": [
    "classes=2\n",
    "input_shape = (32,32,1)"
   ]
  },
  {
   "cell_type": "code",
   "execution_count": 175,
   "metadata": {},
   "outputs": [
    {
     "name": "stdout",
     "output_type": "stream",
     "text": [
      "(5854, 32, 32, 1)\n",
      "(5854, 1)\n",
      "(1526, 32, 32, 1)\n",
      "(1526, 1)\n"
     ]
    }
   ],
   "source": [
    "train_y = train_y.reshape((-1,1))\n",
    "test_y = test_y.reshape((-1,1))\n",
    "print(train_X.shape)\n",
    "print(train_y.shape)\n",
    "print(test_X.shape)\n",
    "print(test_y.shape)"
   ]
  },
  {
   "cell_type": "markdown",
   "metadata": {},
   "source": [
    "### CNN LeNet - 5\n",
    "- https://www.kaggle.com/code/ghousethanedar/smile-detection\n",
    "- https://ai.stackexchange.com/questions/23692/how-much-overfitting-is-acceptable"
   ]
  },
  {
   "cell_type": "code",
   "execution_count": 176,
   "metadata": {},
   "outputs": [],
   "source": [
    "def build_clf(learn_rate=0.01):\n",
    "    sgd = SGD(lr=learn_rate)\n",
    "    model = Sequential()\n",
    "\n",
    "    model.add(Conv2D(32, (3, 3), input_shape=(32,32,1)))\n",
    "    model.add(Activation('relu'))\n",
    "    model.add(MaxPool2D(pool_size=(2, 2)))\n",
    "\n",
    "    model.add(Conv2D(32, (3, 3)))\n",
    "    model.add(Activation('relu'))\n",
    "    model.add(MaxPool2D(pool_size=(2, 2)))\n",
    "\n",
    "    model.add(Conv2D(64, (3, 3)))\n",
    "    model.add(Activation('relu'))\n",
    "    model.add(MaxPool2D(pool_size=(2, 2))) #采样层\n",
    "\n",
    "    model.add(Flatten()) #unflod to 1 dim\n",
    "    model.add(Dense(64)) #Dense is set of node\n",
    "    model.add(Activation('relu')) #relu save storage place\n",
    "    model.add(Dropout(0.5)) # 是为了防止过度拟合问题出现，在训练时专门加入的层。该层在forward过程中随机drop out一系列的激活值，将其值改成0，减少过度拟合。该层使用下，使得网络在随机去掉一些激活值后依然能够有正确的分类等结果，即对不同有更好的适应性。\n",
    "    model.add(Dense(1)) # the reason of dense (1) is because this question is 0,1 classifier\n",
    "    model.add(Activation('sigmoid')) \n",
    "\n",
    "    model.compile(loss='binary_crossentropy',\n",
    "                optimizer= sgd,\n",
    "                metrics=['accuracy'])\n",
    "    return model"
   ]
  },
  {
   "cell_type": "code",
   "execution_count": 177,
   "metadata": {},
   "outputs": [
    {
     "name": "stdout",
     "output_type": "stream",
     "text": [
      "Fitting 3 folds for each of 9 candidates, totalling 27 fits\n",
      "Epoch 1/5\n",
      "122/122 [==============================] - 2s 18ms/step - loss: 0.6147 - accuracy: 0.7473\n",
      "Epoch 2/5\n",
      "122/122 [==============================] - 2s 16ms/step - loss: 0.5746 - accuracy: 0.7501\n",
      "Epoch 3/5\n",
      "122/122 [==============================] - 2s 15ms/step - loss: 0.5689 - accuracy: 0.7501\n",
      "Epoch 4/5\n",
      "122/122 [==============================] - 2s 19ms/step - loss: 0.5695 - accuracy: 0.7501\n",
      "Epoch 5/5\n",
      "122/122 [==============================] - 2s 20ms/step - loss: 0.5693 - accuracy: 0.7501\n",
      "Epoch 1/5\n",
      "122/122 [==============================] - 2s 19ms/step - loss: 0.6930 - accuracy: 0.5019\n",
      "Epoch 2/5\n",
      "122/122 [==============================] - 2s 20ms/step - loss: 0.6929 - accuracy: 0.5140\n",
      "Epoch 3/5\n",
      "122/122 [==============================] - 2s 18ms/step - loss: 0.6922 - accuracy: 0.5155\n",
      "Epoch 4/5\n",
      "122/122 [==============================] - 2s 18ms/step - loss: 0.6926 - accuracy: 0.5263\n",
      "Epoch 5/5\n",
      "122/122 [==============================] - 2s 18ms/step - loss: 0.6921 - accuracy: 0.5209\n",
      "Epoch 1/5\n",
      "122/122 [==============================] - 2s 17ms/step - loss: 0.6257 - accuracy: 0.7246\n",
      "Epoch 2/5\n",
      "122/122 [==============================] - 2s 18ms/step - loss: 0.5685 - accuracy: 0.7499\n",
      "Epoch 3/5\n",
      "122/122 [==============================] - 2s 18ms/step - loss: 0.5679 - accuracy: 0.7499\n",
      "Epoch 4/5\n",
      "122/122 [==============================] - 2s 18ms/step - loss: 0.5651 - accuracy: 0.7499\n",
      "Epoch 5/5\n",
      "122/122 [==============================] - 2s 18ms/step - loss: 0.5663 - accuracy: 0.7499\n",
      "Epoch 1/5\n",
      "122/122 [==============================] - 2s 19ms/step - loss: 0.5821 - accuracy: 0.7455\n",
      "Epoch 2/5\n",
      "122/122 [==============================] - 2s 19ms/step - loss: 0.5680 - accuracy: 0.7501\n",
      "Epoch 3/5\n",
      "122/122 [==============================] - 2s 18ms/step - loss: 0.5641 - accuracy: 0.7501\n",
      "Epoch 4/5\n",
      "122/122 [==============================] - 2s 18ms/step - loss: 0.5635 - accuracy: 0.7501\n",
      "Epoch 5/5\n",
      "122/122 [==============================] - 2s 18ms/step - loss: 0.5638 - accuracy: 0.7501\n",
      "Epoch 1/5\n",
      "122/122 [==============================] - 2s 18ms/step - loss: 0.6932 - accuracy: 0.5006\n",
      "Epoch 2/5\n",
      "122/122 [==============================] - 2s 19ms/step - loss: 0.6915 - accuracy: 0.5306\n",
      "Epoch 3/5\n",
      "122/122 [==============================] - 2s 18ms/step - loss: 0.6888 - accuracy: 0.5429\n",
      "Epoch 4/5\n",
      "122/122 [==============================] - 2s 19ms/step - loss: 0.6859 - accuracy: 0.5568\n",
      "Epoch 5/5\n",
      "122/122 [==============================] - 2s 18ms/step - loss: 0.6775 - accuracy: 0.6013\n",
      "Epoch 1/5\n",
      "122/122 [==============================] - 2s 17ms/step - loss: 0.5803 - accuracy: 0.7420\n",
      "Epoch 2/5\n",
      "122/122 [==============================] - 2s 20ms/step - loss: 0.5691 - accuracy: 0.7499\n",
      "Epoch 3/5\n",
      "122/122 [==============================] - 2s 19ms/step - loss: 0.5640 - accuracy: 0.7499\n",
      "Epoch 4/5\n",
      "122/122 [==============================] - 2s 17ms/step - loss: 0.5644 - accuracy: 0.7499\n",
      "Epoch 5/5\n",
      "122/122 [==============================] - 2s 20ms/step - loss: 0.5628 - accuracy: 0.7499\n",
      "Epoch 1/5\n",
      "122/122 [==============================] - 2s 19ms/step - loss: 0.5731 - accuracy: 0.7463\n",
      "Epoch 2/5\n",
      "122/122 [==============================] - 2s 19ms/step - loss: 0.5679 - accuracy: 0.7501\n",
      "Epoch 3/5\n",
      "122/122 [==============================] - 2s 18ms/step - loss: 0.5648 - accuracy: 0.7501\n",
      "Epoch 4/5\n",
      "122/122 [==============================] - 3s 25ms/step - loss: 0.5594 - accuracy: 0.7501\n",
      "Epoch 5/5\n",
      "122/122 [==============================] - 3s 22ms/step - loss: 0.5551 - accuracy: 0.7501\n",
      "Epoch 1/5\n",
      "122/122 [==============================] - 2s 18ms/step - loss: 0.6944 - accuracy: 0.4927\n",
      "Epoch 2/5\n",
      "122/122 [==============================] - 2s 17ms/step - loss: 0.6926 - accuracy: 0.5158\n",
      "Epoch 3/5\n",
      "122/122 [==============================] - 2s 17ms/step - loss: 0.6903 - accuracy: 0.5352\n",
      "Epoch 4/5\n",
      "122/122 [==============================] - 2s 17ms/step - loss: 0.6826 - accuracy: 0.5767\n",
      "Epoch 5/5\n",
      "122/122 [==============================] - 2s 19ms/step - loss: 0.6360 - accuracy: 0.6572\n",
      "Epoch 1/5\n",
      "122/122 [==============================] - 2s 17ms/step - loss: 0.5749 - accuracy: 0.7451\n",
      "Epoch 2/5\n",
      "122/122 [==============================] - 2s 17ms/step - loss: 0.5621 - accuracy: 0.7499\n",
      "Epoch 3/5\n",
      "122/122 [==============================] - 2s 16ms/step - loss: 0.5559 - accuracy: 0.7499\n",
      "Epoch 4/5\n",
      "122/122 [==============================] - 2s 17ms/step - loss: 0.5301 - accuracy: 0.7499\n",
      "Epoch 5/5\n",
      "122/122 [==============================] - 2s 18ms/step - loss: 0.4585 - accuracy: 0.7709\n",
      "Epoch 1/10\n",
      "122/122 [==============================] - 2s 16ms/step - loss: 0.5961 - accuracy: 0.7317\n",
      "Epoch 2/10\n",
      "122/122 [==============================] - 2s 20ms/step - loss: 0.5705 - accuracy: 0.7501\n",
      "Epoch 3/10\n",
      "122/122 [==============================] - 3s 25ms/step - loss: 0.5671 - accuracy: 0.7501\n",
      "Epoch 4/10\n",
      "122/122 [==============================] - 2s 18ms/step - loss: 0.5659 - accuracy: 0.7501\n",
      "Epoch 5/10\n",
      "122/122 [==============================] - 2s 17ms/step - loss: 0.5668 - accuracy: 0.7501\n",
      "Epoch 6/10\n",
      "122/122 [==============================] - 2s 16ms/step - loss: 0.5672 - accuracy: 0.7501\n",
      "Epoch 7/10\n",
      "122/122 [==============================] - 2s 16ms/step - loss: 0.5647 - accuracy: 0.7501\n",
      "Epoch 8/10\n",
      "122/122 [==============================] - 2s 16ms/step - loss: 0.5645 - accuracy: 0.7501\n",
      "Epoch 9/10\n",
      "122/122 [==============================] - 2s 15ms/step - loss: 0.5632 - accuracy: 0.7501\n",
      "Epoch 10/10\n",
      "122/122 [==============================] - 2s 16ms/step - loss: 0.5627 - accuracy: 0.7501\n",
      "Epoch 1/10\n",
      "122/122 [==============================] - 2s 15ms/step - loss: 0.6936 - accuracy: 0.5037\n",
      "Epoch 2/10\n",
      "122/122 [==============================] - 2s 15ms/step - loss: 0.6931 - accuracy: 0.5050\n",
      "Epoch 3/10\n",
      "122/122 [==============================] - 2s 16ms/step - loss: 0.6922 - accuracy: 0.5145\n",
      "Epoch 4/10\n",
      "122/122 [==============================] - 2s 15ms/step - loss: 0.6915 - accuracy: 0.5365\n",
      "Epoch 5/10\n",
      "122/122 [==============================] - 2s 15ms/step - loss: 0.6911 - accuracy: 0.5260\n",
      "Epoch 6/10\n",
      "122/122 [==============================] - 2s 15ms/step - loss: 0.6914 - accuracy: 0.5283\n",
      "Epoch 7/10\n",
      "122/122 [==============================] - 2s 16ms/step - loss: 0.6907 - accuracy: 0.5460\n",
      "Epoch 8/10\n",
      "122/122 [==============================] - 2s 16ms/step - loss: 0.6905 - accuracy: 0.5521\n",
      "Epoch 9/10\n",
      "122/122 [==============================] - 2s 16ms/step - loss: 0.6900 - accuracy: 0.5603\n",
      "Epoch 10/10\n",
      "122/122 [==============================] - 2s 15ms/step - loss: 0.6883 - accuracy: 0.5639\n",
      "Epoch 1/10\n",
      "122/122 [==============================] - 2s 15ms/step - loss: 0.5826 - accuracy: 0.7481\n",
      "Epoch 2/10\n",
      "122/122 [==============================] - 2s 16ms/step - loss: 0.5677 - accuracy: 0.7499\n",
      "Epoch 3/10\n",
      "122/122 [==============================] - 2s 16ms/step - loss: 0.5660 - accuracy: 0.7499\n",
      "Epoch 4/10\n",
      "122/122 [==============================] - 2s 17ms/step - loss: 0.5667 - accuracy: 0.7499\n",
      "Epoch 5/10\n",
      "122/122 [==============================] - 2s 16ms/step - loss: 0.5654 - accuracy: 0.7499\n",
      "Epoch 6/10\n",
      "122/122 [==============================] - 2s 15ms/step - loss: 0.5652 - accuracy: 0.7499\n",
      "Epoch 7/10\n",
      "122/122 [==============================] - 2s 15ms/step - loss: 0.5651 - accuracy: 0.7499\n",
      "Epoch 8/10\n",
      "122/122 [==============================] - 2s 18ms/step - loss: 0.5631 - accuracy: 0.7499\n",
      "Epoch 9/10\n",
      "122/122 [==============================] - 3s 23ms/step - loss: 0.5643 - accuracy: 0.7499\n",
      "Epoch 10/10\n",
      "122/122 [==============================] - ETA: 0s - loss: 0.5609 - accuracy: 0.75 - 2s 19ms/step - loss: 0.5620 - accuracy: 0.7499\n",
      "Epoch 1/10\n",
      "122/122 [==============================] - 2s 17ms/step - loss: 0.5749 - accuracy: 0.7494\n",
      "Epoch 2/10\n",
      "122/122 [==============================] - 2s 18ms/step - loss: 0.5669 - accuracy: 0.7501\n",
      "Epoch 3/10\n",
      "122/122 [==============================] - 2s 17ms/step - loss: 0.5603 - accuracy: 0.7501\n",
      "Epoch 4/10\n",
      "122/122 [==============================] - 2s 18ms/step - loss: 0.5558 - accuracy: 0.7501\n",
      "Epoch 5/10\n",
      "122/122 [==============================] - 2s 18ms/step - loss: 0.5521 - accuracy: 0.7501\n",
      "Epoch 6/10\n",
      "122/122 [==============================] - 2s 18ms/step - loss: 0.5319 - accuracy: 0.7506\n",
      "Epoch 7/10\n",
      "122/122 [==============================] - 2s 18ms/step - loss: 0.4922 - accuracy: 0.7619\n",
      "Epoch 8/10\n",
      "122/122 [==============================] - 2s 18ms/step - loss: 0.4236 - accuracy: 0.8016\n",
      "Epoch 9/10\n",
      "122/122 [==============================] - 2s 18ms/step - loss: 0.3751 - accuracy: 0.8370\n",
      "Epoch 10/10\n",
      "122/122 [==============================] - 2s 17ms/step - loss: 0.3452 - accuracy: 0.8501\n",
      "Epoch 1/10\n",
      "122/122 [==============================] - 2s 17ms/step - loss: 0.6931 - accuracy: 0.5022\n",
      "Epoch 2/10\n",
      "122/122 [==============================] - 2s 18ms/step - loss: 0.6917 - accuracy: 0.5273\n",
      "Epoch 3/10\n",
      "122/122 [==============================] - 2s 17ms/step - loss: 0.6918 - accuracy: 0.5129\n",
      "Epoch 4/10\n",
      "122/122 [==============================] - 2s 18ms/step - loss: 0.6880 - accuracy: 0.5406\n",
      "Epoch 5/10\n",
      "122/122 [==============================] - 2s 17ms/step - loss: 0.6841 - accuracy: 0.5747\n",
      "Epoch 6/10\n",
      "122/122 [==============================] - 2s 17ms/step - loss: 0.6707 - accuracy: 0.6085\n",
      "Epoch 7/10\n",
      "122/122 [==============================] - 2s 17ms/step - loss: 0.6293 - accuracy: 0.6700\n",
      "Epoch 8/10\n",
      "122/122 [==============================] - 2s 17ms/step - loss: 0.5520 - accuracy: 0.7343\n",
      "Epoch 9/10\n",
      "122/122 [==============================] - 2s 17ms/step - loss: 0.4955 - accuracy: 0.7704\n",
      "Epoch 10/10\n",
      "122/122 [==============================] - 2s 17ms/step - loss: 0.4435 - accuracy: 0.8066\n",
      "Epoch 1/10\n",
      "122/122 [==============================] - 2s 18ms/step - loss: 0.5765 - accuracy: 0.7479\n",
      "Epoch 2/10\n",
      "122/122 [==============================] - 2s 17ms/step - loss: 0.5684 - accuracy: 0.7499\n",
      "Epoch 3/10\n",
      "122/122 [==============================] - 2s 17ms/step - loss: 0.5667 - accuracy: 0.7499\n",
      "Epoch 4/10\n",
      "122/122 [==============================] - 2s 17ms/step - loss: 0.5630 - accuracy: 0.7499\n",
      "Epoch 5/10\n",
      "122/122 [==============================] - 2s 18ms/step - loss: 0.5618 - accuracy: 0.7499\n",
      "Epoch 6/10\n",
      "122/122 [==============================] - 2s 17ms/step - loss: 0.5596 - accuracy: 0.7499\n",
      "Epoch 7/10\n",
      "122/122 [==============================] - 2s 18ms/step - loss: 0.5527 - accuracy: 0.7499\n",
      "Epoch 8/10\n",
      "122/122 [==============================] - 2s 17ms/step - loss: 0.5422 - accuracy: 0.7499\n",
      "Epoch 9/10\n",
      "122/122 [==============================] - 2s 18ms/step - loss: 0.5122 - accuracy: 0.7535\n",
      "Epoch 10/10\n",
      "122/122 [==============================] - 2s 17ms/step - loss: 0.4625 - accuracy: 0.7784\n",
      "Epoch 1/10\n",
      "122/122 [==============================] - 2s 17ms/step - loss: 0.5731 - accuracy: 0.7473\n",
      "Epoch 2/10\n",
      "122/122 [==============================] - 2s 17ms/step - loss: 0.5649 - accuracy: 0.7501\n",
      "Epoch 3/10\n",
      "122/122 [==============================] - 2s 16ms/step - loss: 0.5620 - accuracy: 0.7501\n",
      "Epoch 4/10\n",
      "122/122 [==============================] - 2s 17ms/step - loss: 0.5600 - accuracy: 0.7501\n",
      "Epoch 5/10\n",
      "122/122 [==============================] - 2s 18ms/step - loss: 0.5498 - accuracy: 0.7501\n",
      "Epoch 6/10\n",
      "122/122 [==============================] - 2s 17ms/step - loss: 0.5158 - accuracy: 0.7506\n",
      "Epoch 7/10\n",
      "122/122 [==============================] - 2s 18ms/step - loss: 0.4093 - accuracy: 0.8070\n",
      "Epoch 8/10\n",
      "122/122 [==============================] - 2s 18ms/step - loss: 0.3559 - accuracy: 0.8409\n",
      "Epoch 9/10\n",
      "122/122 [==============================] - 2s 18ms/step - loss: 0.3247 - accuracy: 0.8688\n",
      "Epoch 10/10\n",
      "122/122 [==============================] - 2s 18ms/step - loss: 0.3001 - accuracy: 0.8811\n",
      "Epoch 1/10\n",
      "122/122 [==============================] - 2s 16ms/step - loss: 0.6933 - accuracy: 0.5155\n",
      "Epoch 2/10\n",
      "122/122 [==============================] - 2s 16ms/step - loss: 0.6890 - accuracy: 0.5360\n",
      "Epoch 3/10\n",
      "122/122 [==============================] - 2s 16ms/step - loss: 0.6766 - accuracy: 0.5903\n",
      "Epoch 4/10\n",
      "122/122 [==============================] - 2s 17ms/step - loss: 0.5980 - accuracy: 0.6913\n",
      "Epoch 5/10\n",
      "122/122 [==============================] - 2s 18ms/step - loss: 0.4576 - accuracy: 0.8019\n",
      "Epoch 6/10\n",
      "122/122 [==============================] - 2s 17ms/step - loss: 0.4036 - accuracy: 0.8347\n",
      "Epoch 7/10\n",
      "122/122 [==============================] - 2s 17ms/step - loss: 0.3667 - accuracy: 0.8450\n",
      "Epoch 8/10\n",
      "122/122 [==============================] - ETA: 0s - loss: 0.3478 - accuracy: 0.86 - 2s 18ms/step - loss: 0.3467 - accuracy: 0.8606\n",
      "Epoch 9/10\n",
      "122/122 [==============================] - 2s 17ms/step - loss: 0.3258 - accuracy: 0.8657\n",
      "Epoch 10/10\n",
      "122/122 [==============================] - 2s 17ms/step - loss: 0.3095 - accuracy: 0.8757\n",
      "Epoch 1/10\n",
      "122/122 [==============================] - 2s 17ms/step - loss: 0.5735 - accuracy: 0.7487\n",
      "Epoch 2/10\n",
      "122/122 [==============================] - 2s 17ms/step - loss: 0.5658 - accuracy: 0.7499\n",
      "Epoch 3/10\n",
      "122/122 [==============================] - 2s 17ms/step - loss: 0.5603 - accuracy: 0.7499\n",
      "Epoch 4/10\n",
      "122/122 [==============================] - 2s 17ms/step - loss: 0.5457 - accuracy: 0.7499\n",
      "Epoch 5/10\n",
      "122/122 [==============================] - 2s 17ms/step - loss: 0.4948 - accuracy: 0.7579\n",
      "Epoch 6/10\n",
      "122/122 [==============================] - 2s 17ms/step - loss: 0.4213 - accuracy: 0.8019\n",
      "Epoch 7/10\n",
      "122/122 [==============================] - 2s 17ms/step - loss: 0.3772 - accuracy: 0.8312\n",
      "Epoch 8/10\n",
      "122/122 [==============================] - 2s 17ms/step - loss: 0.3475 - accuracy: 0.8555\n",
      "Epoch 9/10\n",
      "122/122 [==============================] - 2s 17ms/step - loss: 0.3193 - accuracy: 0.8675\n",
      "Epoch 10/10\n",
      "122/122 [==============================] - 2s 17ms/step - loss: 0.3011 - accuracy: 0.8760\n",
      "Epoch 1/20\n",
      "122/122 [==============================] - 2s 17ms/step - loss: 0.5963 - accuracy: 0.7471\n",
      "Epoch 2/20\n",
      "122/122 [==============================] - 2s 18ms/step - loss: 0.5722 - accuracy: 0.7501\n",
      "Epoch 3/20\n",
      "122/122 [==============================] - 2s 17ms/step - loss: 0.5704 - accuracy: 0.7501\n",
      "Epoch 4/20\n",
      "122/122 [==============================] - 2s 17ms/step - loss: 0.5638 - accuracy: 0.7501\n",
      "Epoch 5/20\n",
      "122/122 [==============================] - 2s 17ms/step - loss: 0.5660 - accuracy: 0.7501\n",
      "Epoch 6/20\n",
      "122/122 [==============================] - 2s 17ms/step - loss: 0.5665 - accuracy: 0.7501\n",
      "Epoch 7/20\n",
      "122/122 [==============================] - 2s 17ms/step - loss: 0.5697 - accuracy: 0.7501\n",
      "Epoch 8/20\n",
      "122/122 [==============================] - 2s 17ms/step - loss: 0.5650 - accuracy: 0.7501\n",
      "Epoch 9/20\n",
      "122/122 [==============================] - 2s 17ms/step - loss: 0.5657 - accuracy: 0.7501\n",
      "Epoch 10/20\n",
      "122/122 [==============================] - 2s 18ms/step - loss: 0.5643 - accuracy: 0.7501\n",
      "Epoch 11/20\n",
      "122/122 [==============================] - 2s 17ms/step - loss: 0.5644 - accuracy: 0.7501\n",
      "Epoch 12/20\n",
      "122/122 [==============================] - 2s 17ms/step - loss: 0.5668 - accuracy: 0.7501\n",
      "Epoch 13/20\n",
      "122/122 [==============================] - 2s 17ms/step - loss: 0.5664 - accuracy: 0.7501\n",
      "Epoch 14/20\n",
      "122/122 [==============================] - 2s 17ms/step - loss: 0.5627 - accuracy: 0.7501\n",
      "Epoch 15/20\n",
      "122/122 [==============================] - 2s 18ms/step - loss: 0.5643 - accuracy: 0.7501\n",
      "Epoch 16/20\n",
      "122/122 [==============================] - 2s 18ms/step - loss: 0.5616 - accuracy: 0.7501\n",
      "Epoch 17/20\n",
      "122/122 [==============================] - 2s 18ms/step - loss: 0.5617 - accuracy: 0.7501\n",
      "Epoch 18/20\n",
      "122/122 [==============================] - 2s 17ms/step - loss: 0.5621 - accuracy: 0.7501\n",
      "Epoch 19/20\n",
      "122/122 [==============================] - 2s 18ms/step - loss: 0.5623 - accuracy: 0.7501\n",
      "Epoch 20/20\n",
      "122/122 [==============================] - 2s 17ms/step - loss: 0.5620 - accuracy: 0.7501\n",
      "Epoch 1/20\n",
      "122/122 [==============================] - 2s 17ms/step - loss: 0.6945 - accuracy: 0.4940\n",
      "Epoch 2/20\n",
      "122/122 [==============================] - 2s 18ms/step - loss: 0.6934 - accuracy: 0.5001\n",
      "Epoch 3/20\n",
      "122/122 [==============================] - 2s 17ms/step - loss: 0.6937 - accuracy: 0.5037\n",
      "Epoch 4/20\n",
      "122/122 [==============================] - 2s 17ms/step - loss: 0.6928 - accuracy: 0.5106\n",
      "Epoch 5/20\n",
      "122/122 [==============================] - 2s 17ms/step - loss: 0.6921 - accuracy: 0.5275\n",
      "Epoch 6/20\n",
      "122/122 [==============================] - 2s 17ms/step - loss: 0.6923 - accuracy: 0.5219\n",
      "Epoch 7/20\n",
      "122/122 [==============================] - 2s 18ms/step - loss: 0.6917 - accuracy: 0.5355\n",
      "Epoch 8/20\n",
      "122/122 [==============================] - 2s 17ms/step - loss: 0.6922 - accuracy: 0.5181\n",
      "Epoch 9/20\n",
      "122/122 [==============================] - 2s 17ms/step - loss: 0.6914 - accuracy: 0.5332\n",
      "Epoch 10/20\n",
      "122/122 [==============================] - 2s 17ms/step - loss: 0.6916 - accuracy: 0.5263\n",
      "Epoch 11/20\n",
      "122/122 [==============================] - 2s 18ms/step - loss: 0.6911 - accuracy: 0.5347\n",
      "Epoch 12/20\n",
      "122/122 [==============================] - 2s 18ms/step - loss: 0.6910 - accuracy: 0.5434\n",
      "Epoch 13/20\n",
      "122/122 [==============================] - 2s 17ms/step - loss: 0.6906 - accuracy: 0.5511\n",
      "Epoch 14/20\n",
      "122/122 [==============================] - 2s 17ms/step - loss: 0.6905 - accuracy: 0.5506\n",
      "Epoch 15/20\n",
      "122/122 [==============================] - 2s 18ms/step - loss: 0.6900 - accuracy: 0.5532\n",
      "Epoch 16/20\n",
      "122/122 [==============================] - 2s 18ms/step - loss: 0.6895 - accuracy: 0.5480\n",
      "Epoch 17/20\n",
      "122/122 [==============================] - 2s 17ms/step - loss: 0.6897 - accuracy: 0.5578\n",
      "Epoch 18/20\n",
      "122/122 [==============================] - 2s 17ms/step - loss: 0.6891 - accuracy: 0.5698\n",
      "Epoch 19/20\n",
      "122/122 [==============================] - 2s 17ms/step - loss: 0.6887 - accuracy: 0.5714\n",
      "Epoch 20/20\n",
      "122/122 [==============================] - 2s 17ms/step - loss: 0.6886 - accuracy: 0.5619\n",
      "Epoch 1/20\n",
      "122/122 [==============================] - 2s 17ms/step - loss: 0.6050 - accuracy: 0.7276\n",
      "Epoch 2/20\n",
      "122/122 [==============================] - 2s 17ms/step - loss: 0.5695 - accuracy: 0.7499\n",
      "Epoch 3/20\n",
      "122/122 [==============================] - 2s 18ms/step - loss: 0.5673 - accuracy: 0.7499\n",
      "Epoch 4/20\n",
      "122/122 [==============================] - 2s 17ms/step - loss: 0.5676 - accuracy: 0.7499\n",
      "Epoch 5/20\n",
      "122/122 [==============================] - 2s 17ms/step - loss: 0.5648 - accuracy: 0.7499\n",
      "Epoch 6/20\n",
      "122/122 [==============================] - 2s 17ms/step - loss: 0.5657 - accuracy: 0.7499\n",
      "Epoch 7/20\n",
      "122/122 [==============================] - 2s 17ms/step - loss: 0.5629 - accuracy: 0.7499\n",
      "Epoch 8/20\n",
      "122/122 [==============================] - 2s 17ms/step - loss: 0.5633 - accuracy: 0.7499\n",
      "Epoch 9/20\n",
      "122/122 [==============================] - 2s 17ms/step - loss: 0.5603 - accuracy: 0.7499\n",
      "Epoch 10/20\n",
      "122/122 [==============================] - 2s 17ms/step - loss: 0.5614 - accuracy: 0.7499\n",
      "Epoch 11/20\n",
      "122/122 [==============================] - 2s 18ms/step - loss: 0.5608 - accuracy: 0.7499\n",
      "Epoch 12/20\n",
      "122/122 [==============================] - 2s 18ms/step - loss: 0.5578 - accuracy: 0.7499\n",
      "Epoch 13/20\n",
      "122/122 [==============================] - 2s 18ms/step - loss: 0.5602 - accuracy: 0.7499\n",
      "Epoch 14/20\n",
      "122/122 [==============================] - 2s 18ms/step - loss: 0.5566 - accuracy: 0.7499\n",
      "Epoch 15/20\n",
      "122/122 [==============================] - 2s 18ms/step - loss: 0.5565 - accuracy: 0.7499\n",
      "Epoch 16/20\n",
      "122/122 [==============================] - 2s 19ms/step - loss: 0.5554 - accuracy: 0.7499\n",
      "Epoch 17/20\n",
      "122/122 [==============================] - 2s 18ms/step - loss: 0.5524 - accuracy: 0.7499\n",
      "Epoch 18/20\n",
      "122/122 [==============================] - 2s 18ms/step - loss: 0.5496 - accuracy: 0.7499\n",
      "Epoch 19/20\n",
      "122/122 [==============================] - 2s 17ms/step - loss: 0.5468 - accuracy: 0.7499\n",
      "Epoch 20/20\n",
      "122/122 [==============================] - 2s 17ms/step - loss: 0.5448 - accuracy: 0.7499\n",
      "Epoch 1/20\n",
      "122/122 [==============================] - 2s 18ms/step - loss: 0.5775 - accuracy: 0.7460\n",
      "Epoch 2/20\n",
      "122/122 [==============================] - 2s 18ms/step - loss: 0.5639 - accuracy: 0.7501\n",
      "Epoch 3/20\n",
      "122/122 [==============================] - 2s 17ms/step - loss: 0.5648 - accuracy: 0.7501\n",
      "Epoch 4/20\n",
      "122/122 [==============================] - 2s 17ms/step - loss: 0.5612 - accuracy: 0.7501\n",
      "Epoch 5/20\n",
      "122/122 [==============================] - 2s 18ms/step - loss: 0.5570 - accuracy: 0.7501\n",
      "Epoch 6/20\n",
      "122/122 [==============================] - 2s 18ms/step - loss: 0.5498 - accuracy: 0.7501\n",
      "Epoch 7/20\n",
      "122/122 [==============================] - 2s 18ms/step - loss: 0.5375 - accuracy: 0.7504\n",
      "Epoch 8/20\n",
      "122/122 [==============================] - 2s 18ms/step - loss: 0.5066 - accuracy: 0.7532\n",
      "Epoch 9/20\n",
      "122/122 [==============================] - 2s 19ms/step - loss: 0.4611 - accuracy: 0.7870\n",
      "Epoch 10/20\n",
      "122/122 [==============================] - 2s 18ms/step - loss: 0.4163 - accuracy: 0.8214\n",
      "Epoch 11/20\n",
      "122/122 [==============================] - 2s 17ms/step - loss: 0.3916 - accuracy: 0.8391\n",
      "Epoch 12/20\n",
      "122/122 [==============================] - 2s 19ms/step - loss: 0.3707 - accuracy: 0.8521\n",
      "Epoch 13/20\n",
      "122/122 [==============================] - 2s 19ms/step - loss: 0.3420 - accuracy: 0.8657\n",
      "Epoch 14/20\n",
      "122/122 [==============================] - 2s 19ms/step - loss: 0.3199 - accuracy: 0.8731\n",
      "Epoch 15/20\n",
      "122/122 [==============================] - 2s 19ms/step - loss: 0.3078 - accuracy: 0.8783\n",
      "Epoch 16/20\n",
      "122/122 [==============================] - 2s 18ms/step - loss: 0.3024 - accuracy: 0.8811\n",
      "Epoch 17/20\n",
      "122/122 [==============================] - 2s 19ms/step - loss: 0.2863 - accuracy: 0.8893\n",
      "Epoch 18/20\n",
      "122/122 [==============================] - 2s 19ms/step - loss: 0.2764 - accuracy: 0.8965\n",
      "Epoch 19/20\n",
      "122/122 [==============================] - 2s 18ms/step - loss: 0.2666 - accuracy: 0.8998\n",
      "Epoch 20/20\n",
      "122/122 [==============================] - 2s 18ms/step - loss: 0.2561 - accuracy: 0.8995\n",
      "Epoch 1/20\n",
      "122/122 [==============================] - 2s 16ms/step - loss: 0.6924 - accuracy: 0.5140\n",
      "Epoch 2/20\n",
      "122/122 [==============================] - 2s 16ms/step - loss: 0.6910 - accuracy: 0.5319\n",
      "Epoch 3/20\n",
      "122/122 [==============================] - 2s 16ms/step - loss: 0.6855 - accuracy: 0.5693\n",
      "Epoch 4/20\n",
      "122/122 [==============================] - 2s 17ms/step - loss: 0.6751 - accuracy: 0.6039\n",
      "Epoch 5/20\n",
      "122/122 [==============================] - 2s 18ms/step - loss: 0.6396 - accuracy: 0.6528\n",
      "Epoch 6/20\n",
      "122/122 [==============================] - 2s 17ms/step - loss: 0.5517 - accuracy: 0.7387\n",
      "Epoch 7/20\n",
      "122/122 [==============================] - 2s 17ms/step - loss: 0.4673 - accuracy: 0.7889\n",
      "Epoch 8/20\n",
      "122/122 [==============================] - 2s 18ms/step - loss: 0.4005 - accuracy: 0.8317\n",
      "Epoch 9/20\n",
      "122/122 [==============================] - 2s 18ms/step - loss: 0.3773 - accuracy: 0.8455\n",
      "Epoch 10/20\n",
      "122/122 [==============================] - 2s 18ms/step - loss: 0.3489 - accuracy: 0.8575\n",
      "Epoch 11/20\n",
      "122/122 [==============================] - 2s 18ms/step - loss: 0.3377 - accuracy: 0.8624\n",
      "Epoch 12/20\n",
      "122/122 [==============================] - 2s 17ms/step - loss: 0.3132 - accuracy: 0.8786\n",
      "Epoch 13/20\n",
      "122/122 [==============================] - 2s 18ms/step - loss: 0.3047 - accuracy: 0.8770\n",
      "Epoch 14/20\n",
      "122/122 [==============================] - 2s 17ms/step - loss: 0.2889 - accuracy: 0.8932\n",
      "Epoch 15/20\n",
      "122/122 [==============================] - 2s 17ms/step - loss: 0.2741 - accuracy: 0.8903\n",
      "Epoch 16/20\n",
      "122/122 [==============================] - 2s 17ms/step - loss: 0.2707 - accuracy: 0.8950\n",
      "Epoch 17/20\n",
      "122/122 [==============================] - 2s 18ms/step - loss: 0.2566 - accuracy: 0.8993\n",
      "Epoch 18/20\n",
      "122/122 [==============================] - 2s 17ms/step - loss: 0.2558 - accuracy: 0.8980\n",
      "Epoch 19/20\n",
      "122/122 [==============================] - 2s 18ms/step - loss: 0.2333 - accuracy: 0.9049\n",
      "Epoch 20/20\n",
      "122/122 [==============================] - 2s 18ms/step - loss: 0.2404 - accuracy: 0.9096\n",
      "Epoch 1/20\n",
      "122/122 [==============================] - 2s 18ms/step - loss: 0.5729 - accuracy: 0.7474\n",
      "Epoch 2/20\n",
      "122/122 [==============================] - 2s 17ms/step - loss: 0.5658 - accuracy: 0.7499\n",
      "Epoch 3/20\n",
      "122/122 [==============================] - 2s 17ms/step - loss: 0.5646 - accuracy: 0.7499\n",
      "Epoch 4/20\n",
      "122/122 [==============================] - 2s 18ms/step - loss: 0.5614 - accuracy: 0.7499\n",
      "Epoch 5/20\n",
      "122/122 [==============================] - 2s 17ms/step - loss: 0.5614 - accuracy: 0.7499\n",
      "Epoch 6/20\n",
      "122/122 [==============================] - 2s 17ms/step - loss: 0.5533 - accuracy: 0.7499\n",
      "Epoch 7/20\n",
      "122/122 [==============================] - 2s 17ms/step - loss: 0.5475 - accuracy: 0.7499\n",
      "Epoch 8/20\n",
      "122/122 [==============================] - 2s 17ms/step - loss: 0.5291 - accuracy: 0.7507\n",
      "Epoch 9/20\n",
      "122/122 [==============================] - 2s 18ms/step - loss: 0.4955 - accuracy: 0.7576\n",
      "Epoch 10/20\n",
      "122/122 [==============================] - 2s 17ms/step - loss: 0.4326 - accuracy: 0.7937\n",
      "Epoch 11/20\n",
      "122/122 [==============================] - 2s 17ms/step - loss: 0.3859 - accuracy: 0.8283\n",
      "Epoch 12/20\n",
      "122/122 [==============================] - 2s 17ms/step - loss: 0.3549 - accuracy: 0.8547\n",
      "Epoch 13/20\n",
      "122/122 [==============================] - 2s 18ms/step - loss: 0.3367 - accuracy: 0.8568\n",
      "Epoch 14/20\n",
      "122/122 [==============================] - 2s 19ms/step - loss: 0.3198 - accuracy: 0.8688\n",
      "Epoch 15/20\n",
      "122/122 [==============================] - 2s 17ms/step - loss: 0.3026 - accuracy: 0.8806\n",
      "Epoch 16/20\n",
      "122/122 [==============================] - 2s 19ms/step - loss: 0.2884 - accuracy: 0.8850\n",
      "Epoch 17/20\n",
      "122/122 [==============================] - 2s 18ms/step - loss: 0.2779 - accuracy: 0.8888\n",
      "Epoch 18/20\n",
      "122/122 [==============================] - 2s 18ms/step - loss: 0.2701 - accuracy: 0.8921\n",
      "Epoch 19/20\n",
      "122/122 [==============================] - 2s 20ms/step - loss: 0.2571 - accuracy: 0.8996\n",
      "Epoch 20/20\n",
      "122/122 [==============================] - 2s 18ms/step - loss: 0.2446 - accuracy: 0.9037\n",
      "Epoch 1/20\n",
      "122/122 [==============================] - 2s 18ms/step - loss: 0.5743 - accuracy: 0.7478\n",
      "Epoch 2/20\n",
      "122/122 [==============================] - 2s 18ms/step - loss: 0.5674 - accuracy: 0.7501\n",
      "Epoch 3/20\n",
      "122/122 [==============================] - 2s 17ms/step - loss: 0.5627 - accuracy: 0.7501\n",
      "Epoch 4/20\n",
      "122/122 [==============================] - 2s 17ms/step - loss: 0.5602 - accuracy: 0.7501\n",
      "Epoch 5/20\n",
      "122/122 [==============================] - 2s 17ms/step - loss: 0.5551 - accuracy: 0.7501\n",
      "Epoch 6/20\n",
      "122/122 [==============================] - 2s 18ms/step - loss: 0.5441 - accuracy: 0.7501\n",
      "Epoch 7/20\n",
      "122/122 [==============================] - 2s 17ms/step - loss: 0.4804 - accuracy: 0.7647\n",
      "Epoch 8/20\n",
      "122/122 [==============================] - 2s 17ms/step - loss: 0.3646 - accuracy: 0.8396\n",
      "Epoch 9/20\n",
      "122/122 [==============================] - 2s 18ms/step - loss: 0.3283 - accuracy: 0.8629\n",
      "Epoch 10/20\n",
      "122/122 [==============================] - 2s 18ms/step - loss: 0.3008 - accuracy: 0.8880\n",
      "Epoch 11/20\n",
      "122/122 [==============================] - 2s 18ms/step - loss: 0.2840 - accuracy: 0.8839\n",
      "Epoch 12/20\n",
      "122/122 [==============================] - 2s 18ms/step - loss: 0.2675 - accuracy: 0.8947\n",
      "Epoch 13/20\n",
      "122/122 [==============================] - 2s 17ms/step - loss: 0.2536 - accuracy: 0.9024\n",
      "Epoch 14/20\n",
      "122/122 [==============================] - 2s 18ms/step - loss: 0.2362 - accuracy: 0.9098\n",
      "Epoch 15/20\n",
      "122/122 [==============================] - 2s 18ms/step - loss: 0.2268 - accuracy: 0.9136\n",
      "Epoch 16/20\n",
      "122/122 [==============================] - 2s 17ms/step - loss: 0.2186 - accuracy: 0.9149\n",
      "Epoch 17/20\n",
      "122/122 [==============================] - 2s 17ms/step - loss: 0.2072 - accuracy: 0.9211\n",
      "Epoch 18/20\n",
      "122/122 [==============================] - 2s 18ms/step - loss: 0.1913 - accuracy: 0.9244\n",
      "Epoch 19/20\n",
      "122/122 [==============================] - 2s 17ms/step - loss: 0.1780 - accuracy: 0.9352\n",
      "Epoch 20/20\n",
      "122/122 [==============================] - 2s 18ms/step - loss: 0.1723 - accuracy: 0.9387\n",
      "Epoch 1/20\n",
      "122/122 [==============================] - 2s 17ms/step - loss: 0.6929 - accuracy: 0.5104\n",
      "Epoch 2/20\n",
      "122/122 [==============================] - 2s 17ms/step - loss: 0.6905 - accuracy: 0.5355\n",
      "Epoch 3/20\n",
      "122/122 [==============================] - 2s 17ms/step - loss: 0.6851 - accuracy: 0.5573\n",
      "Epoch 4/20\n",
      "122/122 [==============================] - 2s 17ms/step - loss: 0.6436 - accuracy: 0.6469\n",
      "Epoch 5/20\n",
      "122/122 [==============================] - 2s 17ms/step - loss: 0.5089 - accuracy: 0.7625\n",
      "Epoch 6/20\n",
      "122/122 [==============================] - 2s 17ms/step - loss: 0.4187 - accuracy: 0.8281\n",
      "Epoch 7/20\n",
      "122/122 [==============================] - 2s 17ms/step - loss: 0.3780 - accuracy: 0.8435\n",
      "Epoch 8/20\n",
      "122/122 [==============================] - 2s 17ms/step - loss: 0.3432 - accuracy: 0.8627\n",
      "Epoch 9/20\n",
      "122/122 [==============================] - 2s 17ms/step - loss: 0.3192 - accuracy: 0.8716\n",
      "Epoch 10/20\n",
      "122/122 [==============================] - 2s 17ms/step - loss: 0.2999 - accuracy: 0.8819\n",
      "Epoch 11/20\n",
      "122/122 [==============================] - 2s 17ms/step - loss: 0.2895 - accuracy: 0.8878\n",
      "Epoch 12/20\n",
      "122/122 [==============================] - 2s 17ms/step - loss: 0.2810 - accuracy: 0.8901\n",
      "Epoch 13/20\n",
      "122/122 [==============================] - 2s 18ms/step - loss: 0.2669 - accuracy: 0.8970\n",
      "Epoch 14/20\n",
      "122/122 [==============================] - 2s 17ms/step - loss: 0.2599 - accuracy: 0.8957\n",
      "Epoch 15/20\n",
      "122/122 [==============================] - 2s 17ms/step - loss: 0.2455 - accuracy: 0.9078\n",
      "Epoch 16/20\n",
      "122/122 [==============================] - 2s 18ms/step - loss: 0.2422 - accuracy: 0.9037\n",
      "Epoch 17/20\n",
      "122/122 [==============================] - 2s 18ms/step - loss: 0.2228 - accuracy: 0.9157\n",
      "Epoch 18/20\n",
      "122/122 [==============================] - 2s 18ms/step - loss: 0.2203 - accuracy: 0.9188\n",
      "Epoch 19/20\n",
      "122/122 [==============================] - 2s 17ms/step - loss: 0.2029 - accuracy: 0.9229\n",
      "Epoch 20/20\n",
      "122/122 [==============================] - 2s 17ms/step - loss: 0.1959 - accuracy: 0.9303\n",
      "Epoch 1/20\n",
      "122/122 [==============================] - 2s 16ms/step - loss: 0.5696 - accuracy: 0.7499\n",
      "Epoch 2/20\n",
      "122/122 [==============================] - 2s 17ms/step - loss: 0.5687 - accuracy: 0.7499\n",
      "Epoch 3/20\n",
      "122/122 [==============================] - 2s 17ms/step - loss: 0.5618 - accuracy: 0.7499\n",
      "Epoch 4/20\n",
      "122/122 [==============================] - 2s 17ms/step - loss: 0.5593 - accuracy: 0.7499\n",
      "Epoch 5/20\n",
      "122/122 [==============================] - 2s 17ms/step - loss: 0.5508 - accuracy: 0.7499\n",
      "Epoch 6/20\n",
      "122/122 [==============================] - 2s 17ms/step - loss: 0.5170 - accuracy: 0.7504\n",
      "Epoch 7/20\n",
      "122/122 [==============================] - 2s 17ms/step - loss: 0.4405 - accuracy: 0.7827\n",
      "Epoch 8/20\n",
      "122/122 [==============================] - 2s 17ms/step - loss: 0.3818 - accuracy: 0.8286\n",
      "Epoch 9/20\n",
      "122/122 [==============================] - 2s 18ms/step - loss: 0.3367 - accuracy: 0.8596\n",
      "Epoch 10/20\n",
      "122/122 [==============================] - 2s 18ms/step - loss: 0.3064 - accuracy: 0.8734\n",
      "Epoch 11/20\n",
      "122/122 [==============================] - 2s 18ms/step - loss: 0.2865 - accuracy: 0.8865\n",
      "Epoch 12/20\n",
      "122/122 [==============================] - 2s 18ms/step - loss: 0.2726 - accuracy: 0.8942\n",
      "Epoch 13/20\n",
      "122/122 [==============================] - 2s 17ms/step - loss: 0.2608 - accuracy: 0.8998\n",
      "Epoch 14/20\n",
      "122/122 [==============================] - 2s 17ms/step - loss: 0.2479 - accuracy: 0.9103\n",
      "Epoch 15/20\n",
      "122/122 [==============================] - 2s 17ms/step - loss: 0.2455 - accuracy: 0.9073\n",
      "Epoch 16/20\n",
      "122/122 [==============================] - 2s 17ms/step - loss: 0.2356 - accuracy: 0.9111\n",
      "Epoch 17/20\n",
      "122/122 [==============================] - 2s 17ms/step - loss: 0.2253 - accuracy: 0.9152\n",
      "Epoch 18/20\n",
      "122/122 [==============================] - 2s 18ms/step - loss: 0.2168 - accuracy: 0.9180\n",
      "Epoch 19/20\n",
      "122/122 [==============================] - 2s 17ms/step - loss: 0.2056 - accuracy: 0.9219\n",
      "Epoch 20/20\n",
      "122/122 [==============================] - 2s 17ms/step - loss: 0.2004 - accuracy: 0.9247\n",
      "Epoch 1/20\n",
      "183/183 [==============================] - 3s 16ms/step - loss: 0.6922 - accuracy: 0.5203\n",
      "Epoch 2/20\n",
      "183/183 [==============================] - 3s 16ms/step - loss: 0.6850 - accuracy: 0.5624\n",
      "Epoch 3/20\n",
      "183/183 [==============================] - 3s 17ms/step - loss: 0.5821 - accuracy: 0.7106\n",
      "Epoch 4/20\n",
      "183/183 [==============================] - 3s 18ms/step - loss: 0.4306 - accuracy: 0.8165\n",
      "Epoch 5/20\n",
      "183/183 [==============================] - 3s 17ms/step - loss: 0.3759 - accuracy: 0.8487\n",
      "Epoch 6/20\n",
      "183/183 [==============================] - 3s 17ms/step - loss: 0.3457 - accuracy: 0.8575\n",
      "Epoch 7/20\n",
      "183/183 [==============================] - 3s 17ms/step - loss: 0.3129 - accuracy: 0.8744\n",
      "Epoch 8/20\n",
      "183/183 [==============================] - 3s 17ms/step - loss: 0.2997 - accuracy: 0.8821\n",
      "Epoch 9/20\n",
      "183/183 [==============================] - 3s 17ms/step - loss: 0.2717 - accuracy: 0.8956\n",
      "Epoch 10/20\n",
      "183/183 [==============================] - 3s 18ms/step - loss: 0.2663 - accuracy: 0.8984\n",
      "Epoch 11/20\n",
      "183/183 [==============================] - 3s 17ms/step - loss: 0.2569 - accuracy: 0.9004\n",
      "Epoch 12/20\n",
      "183/183 [==============================] - 3s 17ms/step - loss: 0.2426 - accuracy: 0.9067\n",
      "Epoch 13/20\n",
      "183/183 [==============================] - 3s 17ms/step - loss: 0.2359 - accuracy: 0.9100\n",
      "Epoch 14/20\n",
      "183/183 [==============================] - 3s 18ms/step - loss: 0.2219 - accuracy: 0.9151\n",
      "Epoch 15/20\n",
      "183/183 [==============================] - 3s 18ms/step - loss: 0.2133 - accuracy: 0.9163\n",
      "Epoch 16/20\n",
      "183/183 [==============================] - 3s 17ms/step - loss: 0.2038 - accuracy: 0.9274\n",
      "Epoch 17/20\n",
      "183/183 [==============================] - 3s 17ms/step - loss: 0.1963 - accuracy: 0.9286\n",
      "Epoch 18/20\n",
      "183/183 [==============================] - 3s 17ms/step - loss: 0.1892 - accuracy: 0.9310\n",
      "Epoch 19/20\n",
      "183/183 [==============================] - 3s 17ms/step - loss: 0.1815 - accuracy: 0.9361\n",
      "Epoch 20/20\n",
      "183/183 [==============================] - 3s 17ms/step - loss: 0.1740 - accuracy: 0.9382\n"
     ]
    },
    {
     "data": {
      "text/plain": [
       "RandomizedSearchCV(cv=3,\n",
       "                   estimator=<tensorflow.python.keras.wrappers.scikit_learn.KerasClassifier object at 0x7fe8aed80610>,\n",
       "                   param_distributions={'epochs': [5, 10, 20],\n",
       "                                        'learn_rate': [0.01, 0.05, 0.1]},\n",
       "                   refit='precision_score', return_train_score=True,\n",
       "                   scoring={'accuracy_score': make_scorer(accuracy_score),\n",
       "                            'precision_score': make_scorer(precision_score),\n",
       "                            'recall_score': make_scorer(recall_score)},\n",
       "                   verbose=1)"
      ]
     },
     "execution_count": 177,
     "metadata": {},
     "output_type": "execute_result"
    }
   ],
   "source": [
    "epochs = [5,10,20]\n",
    "learn_rate = [0.01,0.05,0.1]\n",
    "random_grid = {'epochs': epochs,\n",
    "               'learn_rate': learn_rate}\n",
    "\n",
    "model=KerasClassifier(build_fn=build_clf)\n",
    "\n",
    "scorers = {\n",
    "        'precision_score': make_scorer(precision_score),\n",
    "        'recall_score': make_scorer(recall_score),\n",
    "        'accuracy_score': make_scorer(accuracy_score)\n",
    "        }\n",
    "\n",
    "grid_search_cv=RandomizedSearchCV(model,random_grid,verbose=1,cv=3,scoring=scorers,refit=\"precision_score\",return_train_score = True)\n",
    "grid_search_cv.fit(train_X,train_y)"
   ]
  },
  {
   "cell_type": "code",
   "execution_count": 178,
   "metadata": {},
   "outputs": [
    {
     "data": {
      "text/plain": [
       "{'learn_rate': 0.1, 'epochs': 20}"
      ]
     },
     "execution_count": 178,
     "metadata": {},
     "output_type": "execute_result"
    }
   ],
   "source": [
    "grid_search_cv.best_params_"
   ]
  },
  {
   "cell_type": "code",
   "execution_count": 245,
   "metadata": {},
   "outputs": [
    {
     "data": {
      "text/plain": [
       "Text(0.5, 1.0, 'Cross-validation for CNN')"
      ]
     },
     "execution_count": 245,
     "metadata": {},
     "output_type": "execute_result"
    },
    {
     "data": {
      "image/png": "[encoded data removed]",
      "text/plain": [
       "<Figure size 432x288 with 1 Axes>"
      ]
     },
     "metadata": {
      "needs_background": "light"
     },
     "output_type": "display_data"
    }
   ],
   "source": [
    "x_array = [1,2,3,4,5,6,7,8,9]\n",
    "mean_train_accuracy_score = grid_search_cv.cv_results_['mean_train_accuracy_score']\n",
    "mean_test_accuracy_score = grid_search_cv.cv_results_['mean_test_accuracy_score']\n",
    "labels = grid_search_cv.cv_results_['params']\n",
    "\n",
    "fig = plt.figure()\n",
    "ax = plt.axes()\n",
    "line1,=ax.plot(x_array, mean_train_accuracy_score, label='train_acc')\n",
    "line2,=ax.plot(x_array, mean_test_accuracy_score, label='test_acc')\n",
    "ax.legend(handles=[line1, line2])\n",
    "ax.set_xticks(x_array)\n",
    "ax.set_xticklabels(labels)\n",
    "plt.xticks(rotation=90)\n",
    "plt.title(\"Cross-validation for CNN\")"
   ]
  },
  {
   "cell_type": "code",
   "execution_count": 246,
   "metadata": {},
   "outputs": [
    {
     "name": "stdout",
     "output_type": "stream",
     "text": [
      "[0.70482109 0.73351696 0.7711803  0.70763943 0.82371409 0.89776263\n",
      " 0.69704929 0.90971878 0.94192029]\n",
      "[0.19853067 0.22928413 0.3709209  0.20690244 0.78392561 0.77315271\n",
      " 0.19340509 0.74463679 0.8397796 ]\n"
     ]
    }
   ],
   "source": [
    "print(mean_train_accuracy_score)\n",
    "print(mean_test_accuracy_score)"
   ]
  },
  {
   "cell_type": "code",
   "execution_count": 205,
   "metadata": {},
   "outputs": [
    {
     "data": {
      "text/plain": [
       "0.07187782340737268"
      ]
     },
     "execution_count": 205,
     "metadata": {},
     "output_type": "execute_result"
    }
   ],
   "source": [
    "grid_search_cv.cv_results_['std_test_accuracy_score'][4]"
   ]
  },
  {
   "cell_type": "code",
   "execution_count": 214,
   "metadata": {},
   "outputs": [
    {
     "name": "stdout",
     "output_type": "stream",
     "text": [
      "Epoch 1/10\n",
      "183/183 [==============================] - 3s 17ms/step - loss: 0.6921 - accuracy: 0.5159 - val_loss: 0.6904 - val_accuracy: 0.5321\n",
      "Epoch 2/10\n",
      "183/183 [==============================] - 4s 19ms/step - loss: 0.6893 - accuracy: 0.5557 - val_loss: 0.6864 - val_accuracy: 0.6514\n",
      "Epoch 3/10\n",
      "183/183 [==============================] - 4s 20ms/step - loss: 0.6821 - accuracy: 0.5772 - val_loss: 0.6821 - val_accuracy: 0.5085\n",
      "Epoch 4/10\n",
      "183/183 [==============================] - 3s 17ms/step - loss: 0.6535 - accuracy: 0.6513 - val_loss: 0.6093 - val_accuracy: 0.7333\n",
      "Epoch 5/10\n",
      "183/183 [==============================] - 3s 17ms/step - loss: 0.5521 - accuracy: 0.7414 - val_loss: 0.4835 - val_accuracy: 0.7798\n",
      "Epoch 6/10\n",
      "183/183 [==============================] - 3s 19ms/step - loss: 0.4515 - accuracy: 0.8008 - val_loss: 0.4237 - val_accuracy: 0.8178\n",
      "Epoch 7/10\n",
      "183/183 [==============================] - 4s 21ms/step - loss: 0.3954 - accuracy: 0.8340 - val_loss: 0.3989 - val_accuracy: 0.8316\n",
      "Epoch 8/10\n",
      "183/183 [==============================] - 4s 21ms/step - loss: 0.3584 - accuracy: 0.8531 - val_loss: 0.3922 - val_accuracy: 0.8414\n",
      "Epoch 9/10\n",
      "183/183 [==============================] - 3s 19ms/step - loss: 0.3463 - accuracy: 0.8589 - val_loss: 0.3685 - val_accuracy: 0.8532\n",
      "Epoch 10/10\n",
      "183/183 [==============================] - 4s 20ms/step - loss: 0.3159 - accuracy: 0.8715 - val_loss: 0.4900 - val_accuracy: 0.8126\n"
     ]
    },
    {
     "data": {
      "text/plain": [
       "<tensorflow.python.keras.callbacks.History at 0x7fe883fdaf10>"
      ]
     },
     "execution_count": 214,
     "metadata": {},
     "output_type": "execute_result"
    }
   ],
   "source": [
    "cnn_model = build_clf(0.05)\n",
    "cnn_model.fit(train_X,train_y,validation_data=(test_X,test_y),epochs=10,batch_size=32)"
   ]
  },
  {
   "cell_type": "code",
   "execution_count": 235,
   "metadata": {},
   "outputs": [
    {
     "name": "stdout",
     "output_type": "stream",
     "text": [
      "classification report                precision    recall  f1-score   support\n",
      "\n",
      "     smiling       0.94      0.67      0.78       763\n",
      " not_smiling       0.74      0.96      0.84       763\n",
      "\n",
      "    accuracy                           0.81      1526\n",
      "   macro avg       0.84      0.81      0.81      1526\n",
      "weighted avg       0.84      0.81      0.81      1526\n",
      "\n"
     ]
    }
   ],
   "source": [
    "from sklearn.metrics import classification_report\n",
    "predictions = cnn_model.predict(test_X, batch_size=64)\n",
    "predicted_val = [int(round(p[0])) for p in predictions]\n",
    "print(\"classification report \",classification_report(test_y,predicted_val,target_names=['smiling','not_smiling']))"
   ]
  },
  {
   "cell_type": "code",
   "execution_count": 237,
   "metadata": {},
   "outputs": [
    {
     "name": "stdout",
     "output_type": "stream",
     "text": [
      "classification report                precision    recall  f1-score   support\n",
      "\n",
      "     smiling       0.94      0.76      0.84      2927\n",
      " not_smiling       0.80      0.95      0.87      2927\n",
      "\n",
      "    accuracy                           0.86      5854\n",
      "   macro avg       0.87      0.86      0.86      5854\n",
      "weighted avg       0.87      0.86      0.86      5854\n",
      "\n"
     ]
    }
   ],
   "source": [
    "predictions = cnn_model.predict(train_X, batch_size=64)\n",
    "predicted_val = [int(round(p[0])) for p in predictions]\n",
    "print(\"classification report \",classification_report(train_y,predicted_val,target_names=['smiling','not_smiling']))"
   ]
  },
  {
   "cell_type": "code",
   "execution_count": 239,
   "metadata": {},
   "outputs": [
    {
     "name": "stdout",
     "output_type": "stream",
     "text": [
      "0.14198996213934062\n",
      "0.10166423640937337\n"
     ]
    }
   ],
   "source": [
    "CNN_test_rmse = mean_squared_error(test_y, cnn_model.predict(test_X), squared=True)\n",
    "CNN_train_rmse = mean_squared_error(train_y, cnn_model.predict(train_X), squared=True)\n",
    "print(CNN_test_rmse)\n",
    "print(CNN_train_rmse)"
   ]
  },
  {
   "cell_type": "markdown",
   "metadata": {},
   "source": [
    "### Random Forest\n",
    "https://intellipaat.com/community/9495/how-do-i-solve-overfitting-in-random-forest-of-python-sklearn\n",
    "\n",
    "Pass x_train2 to fit() function as it is the reshaped 2D array of the images and sklearn needs a 2D array as input here. Do this while fitting for all the models as they are all implemented using sklearn"
   ]
  },
  {
   "cell_type": "code",
   "execution_count": 217,
   "metadata": {},
   "outputs": [],
   "source": [
    "nsamples, nx, ny, nrgb = train_X.shape\n",
    "train_X_RF = train_X.reshape((nsamples,nx*ny*nrgb))\n",
    "nsamples, nx, ny, nrgb = test_X.shape\n",
    "test_X_RF = test_X.reshape((nsamples,nx*ny*nrgb))"
   ]
  },
  {
   "cell_type": "code",
   "execution_count": 218,
   "metadata": {},
   "outputs": [
    {
     "name": "stdout",
     "output_type": "stream",
     "text": [
      "(5854, 1024)\n",
      "(5854, 1)\n",
      "(1526, 1024)\n",
      "(1526, 1)\n"
     ]
    }
   ],
   "source": [
    "print(train_X_RF.shape)\n",
    "print(train_y.shape)\n",
    "print(test_X_RF.shape)\n",
    "print(test_y.shape)"
   ]
  },
  {
   "cell_type": "code",
   "execution_count": 219,
   "metadata": {},
   "outputs": [
    {
     "data": {
      "text/plain": [
       "RandomizedSearchCV(cv=3, estimator=RandomForestClassifier(), n_iter=100,\n",
       "                   param_distributions={'max_depth': [10, 50, 100],\n",
       "                                        'min_samples_leaf': [50, 100],\n",
       "                                        'n_estimators': [100, 500, 1000]},\n",
       "                   random_state=42, return_train_score=True)"
      ]
     },
     "execution_count": 219,
     "metadata": {},
     "output_type": "execute_result"
    }
   ],
   "source": [
    "# Number of trees in random forest\n",
    "n_estimators = [100,500,1000]\n",
    "# Maximum number of levels in tree\n",
    "max_depth = [10,50,100]\n",
    "min_samples_leaf = [50,100]\n",
    "random_grid = {'n_estimators': n_estimators,\n",
    "               'max_depth': max_depth,\n",
    "               \"min_samples_leaf\":min_samples_leaf}\n",
    "\n",
    "rf = RandomForestClassifier()\n",
    "rf_random = RandomizedSearchCV(estimator = rf, param_distributions = random_grid, n_iter = 100, cv = 3, random_state=42,return_train_score = True)# Fit the random search model\n",
    "rf_random.fit(train_X_RF,train_y)"
   ]
  },
  {
   "cell_type": "code",
   "execution_count": 220,
   "metadata": {},
   "outputs": [
    {
     "data": {
      "text/plain": [
       "{'n_estimators': 1000, 'min_samples_leaf': 50, 'max_depth': 100}"
      ]
     },
     "execution_count": 220,
     "metadata": {},
     "output_type": "execute_result"
    }
   ],
   "source": [
    "rf_random.best_params_"
   ]
  },
  {
   "cell_type": "code",
   "execution_count": 247,
   "metadata": {},
   "outputs": [
    {
     "data": {
      "text/plain": [
       "Text(0.5, 1.0, 'Cross-validation for RF')"
      ]
     },
     "execution_count": 247,
     "metadata": {},
     "output_type": "execute_result"
    },
    {
     "data": {
      "image/png": "[encoded data removed]",
      "text/plain": [
       "<Figure size 432x288 with 1 Axes>"
      ]
     },
     "metadata": {
      "needs_background": "light"
     },
     "output_type": "display_data"
    }
   ],
   "source": [
    "x_array = [1,2,3,4,5,6,7,8,9,10,11,12,13,14,15,16,17,18]\n",
    "mean_train_accuracy_score = rf_random.cv_results_['mean_train_score']\n",
    "mean_test_accuracy_score = rf_random.cv_results_['mean_test_score']\n",
    "labels = rf_random.cv_results_['params']\n",
    "\n",
    "fig = plt.figure()\n",
    "ax = plt.axes()\n",
    "line1,=ax.plot(x_array, mean_train_accuracy_score, label='train_acc')\n",
    "line2,=ax.plot(x_array, mean_test_accuracy_score, label='test_acc')\n",
    "ax.legend(handles=[line1, line2])\n",
    "ax.set_xticks(x_array)\n",
    "ax.set_xticklabels(labels)\n",
    "plt.xticks(rotation=90)\n",
    "plt.title(\"Cross-validation for RF\")"
   ]
  },
  {
   "cell_type": "code",
   "execution_count": 248,
   "metadata": {},
   "outputs": [
    {
     "name": "stdout",
     "output_type": "stream",
     "text": [
      "[0.88443792 0.88700056 0.8854631  0.85035914 0.85164036 0.85428807\n",
      " 0.88213198 0.88529225 0.88793992 0.85155443 0.85548367 0.85292158\n",
      " 0.88375489 0.88580468 0.88546295 0.85232384 0.85309237 0.85403184]\n",
      "[0.82148893 0.82354003 0.82593144 0.81089826 0.8139736  0.81141152\n",
      " 0.81961104 0.82405285 0.82781047 0.8114123  0.81465763 0.81055664\n",
      " 0.82217295 0.82627271 0.82815156 0.81123935 0.81192372 0.81175331]\n"
     ]
    }
   ],
   "source": [
    "print(mean_train_accuracy_score)\n",
    "print(mean_test_accuracy_score)"
   ]
  },
  {
   "cell_type": "code",
   "execution_count": 223,
   "metadata": {},
   "outputs": [
    {
     "data": {
      "text/plain": [
       "0.007968815535333521"
      ]
     },
     "execution_count": 223,
     "metadata": {},
     "output_type": "execute_result"
    }
   ],
   "source": [
    "rf_random.cv_results_['std_test_score'][14]"
   ]
  },
  {
   "cell_type": "code",
   "execution_count": 224,
   "metadata": {},
   "outputs": [
    {
     "data": {
      "text/plain": [
       "array([1, 0, 0, ..., 1, 1, 0])"
      ]
     },
     "execution_count": 224,
     "metadata": {},
     "output_type": "execute_result"
    }
   ],
   "source": [
    "from sklearn.ensemble import RandomForestClassifier\n",
    "model_RF=RandomForestClassifier(n_estimators= 1000, max_depth= 100,min_samples_leaf = 50)\n",
    "model_RF.fit(train_X_RF,train_y)\n",
    "y_pred=model_RF.predict(test_X_RF)\n",
    "y_pred"
   ]
  },
  {
   "cell_type": "code",
   "execution_count": 225,
   "metadata": {},
   "outputs": [
    {
     "name": "stdout",
     "output_type": "stream",
     "text": [
      "              precision    recall  f1-score   support\n",
      "\n",
      "           0       0.76      0.84      0.80       691\n",
      "           1       0.86      0.78      0.82       835\n",
      "\n",
      "    accuracy                           0.81      1526\n",
      "   macro avg       0.81      0.81      0.81      1526\n",
      "weighted avg       0.81      0.81      0.81      1526\n",
      "\n"
     ]
    }
   ],
   "source": [
    "from sklearn.metrics import accuracy_score,confusion_matrix,classification_report\n",
    "accuracy_score(y_pred,test_y)\n",
    "print(classification_report(y_pred,test_y))"
   ]
  },
  {
   "cell_type": "code",
   "execution_count": 240,
   "metadata": {},
   "outputs": [
    {
     "name": "stdout",
     "output_type": "stream",
     "text": [
      "              precision    recall  f1-score   support\n",
      "\n",
      "           0       0.90      0.88      0.89      2966\n",
      "           1       0.88      0.89      0.89      2888\n",
      "\n",
      "    accuracy                           0.89      5854\n",
      "   macro avg       0.89      0.89      0.89      5854\n",
      "weighted avg       0.89      0.89      0.89      5854\n",
      "\n"
     ]
    }
   ],
   "source": [
    "y_pred_train = model_RF.predict(train_X_RF)\n",
    "print(classification_report(y_pred_train,train_y))"
   ]
  },
  {
   "cell_type": "code",
   "execution_count": 242,
   "metadata": {},
   "outputs": [
    {
     "name": "stdout",
     "output_type": "stream",
     "text": [
      "0.1913499344692005\n",
      "0.1105227195080287\n"
     ]
    }
   ],
   "source": [
    "RF_test_rmse = mean_squared_error(test_y, model_RF.predict(test_X_RF), squared=True)\n",
    "RF_train_rmse = mean_squared_error(train_y, model_RF.predict(train_X_RF), squared=True)\n",
    "print(RF_test_rmse)\n",
    "print(RF_train_rmse)"
   ]
  },
  {
   "cell_type": "markdown",
   "metadata": {},
   "source": [
    "### Gradient Boosting\n",
    "- https://www.baeldung.com/cs/gradient-boosting-trees-vs-random-forests\n",
    "- https://medium.com/all-things-ai/in-depth-parameter-tuning-for-gradient-boosting-3363992e9bae\n",
    "- https://www.analyticsvidhya.com/blog/2020/02/4-boosting-algorithms-machine-learning/#:~:text=1.-,Gradient%20Boosting%20Machine%20(GBM),boosting%20machine%20are%20decision%20trees. Why GBM"
   ]
  },
  {
   "cell_type": "code",
   "execution_count": 227,
   "metadata": {},
   "outputs": [
    {
     "data": {
      "text/plain": [
       "RandomizedSearchCV(cv=3, estimator=GradientBoostingClassifier(),\n",
       "                   param_distributions={'learning_rate': [0.01, 0.05, 0.1],\n",
       "                                        'max_depth': [1, 2],\n",
       "                                        'n_estimators': [10, 50, 100]},\n",
       "                   random_state=42, return_train_score=True, scoring='roc_auc')"
      ]
     },
     "execution_count": 227,
     "metadata": {},
     "output_type": "execute_result"
    }
   ],
   "source": [
    "from sklearn.ensemble import GradientBoostingClassifier\n",
    "from sklearn.model_selection import RandomizedSearchCV\n",
    "#random search light gbm\n",
    "gb = GradientBoostingClassifier()\n",
    "gb_parameters = { 'n_estimators': [10, 50, 100],\n",
    "                  'learning_rate': [0.01,0.05,0.1],\n",
    "                  'max_depth' : [1,2]}\n",
    "\n",
    "gb_search = RandomizedSearchCV(gb,param_distributions=gb_parameters,scoring='roc_auc',cv=3,random_state = 42,return_train_score = True)\n",
    "gb_search.fit(train_X_RF, train_y)"
   ]
  },
  {
   "cell_type": "code",
   "execution_count": 228,
   "metadata": {},
   "outputs": [
    {
     "data": {
      "text/plain": [
       "{'n_estimators': 100, 'max_depth': 2, 'learning_rate': 0.05}"
      ]
     },
     "execution_count": 228,
     "metadata": {},
     "output_type": "execute_result"
    }
   ],
   "source": [
    "gb_search.best_params_"
   ]
  },
  {
   "cell_type": "code",
   "execution_count": 249,
   "metadata": {},
   "outputs": [
    {
     "data": {
      "text/plain": [
       "Text(0.5, 1.0, 'Cross-validation for GB')"
      ]
     },
     "execution_count": 249,
     "metadata": {},
     "output_type": "execute_result"
    },
    {
     "data": {
      "image/png": "[encoded data removed]",
      "text/plain": [
       "<Figure size 432x288 with 1 Axes>"
      ]
     },
     "metadata": {
      "needs_background": "light"
     },
     "output_type": "display_data"
    }
   ],
   "source": [
    "x_array = [1,2,3,4,5,6,7,8,9,10]\n",
    "mean_train_accuracy_score = gb_search.cv_results_['mean_train_score']\n",
    "mean_test_accuracy_score = gb_search.cv_results_['mean_test_score']\n",
    "labels = gb_search.cv_results_['params']\n",
    "\n",
    "fig = plt.figure()\n",
    "ax = plt.axes()\n",
    "line1,=ax.plot(x_array, mean_train_accuracy_score, label='train_acc')\n",
    "line2,=ax.plot(x_array, mean_test_accuracy_score, label='test_acc')\n",
    "ax.legend(handles=[line1, line2])\n",
    "ax.set_xticks(x_array)\n",
    "ax.set_xticklabels(labels)\n",
    "plt.xticks(rotation=90)\n",
    "plt.title(\"Cross-validation for GB\")"
   ]
  },
  {
   "cell_type": "code",
   "execution_count": 250,
   "metadata": {},
   "outputs": [
    {
     "name": "stdout",
     "output_type": "stream",
     "text": [
      "[0.67336898 0.73107701 0.86597138 0.84802973 0.77309307 0.86710217\n",
      " 0.9243824  0.84127885 0.92515909 0.76793781]\n",
      "[0.66331114 0.71539962 0.83916077 0.81771294 0.75123089 0.84009302\n",
      " 0.88495    0.81041901 0.88514756 0.74946658]\n"
     ]
    }
   ],
   "source": [
    "print(mean_train_accuracy_score)\n",
    "print(mean_test_accuracy_score)"
   ]
  },
  {
   "cell_type": "code",
   "execution_count": 234,
   "metadata": {},
   "outputs": [
    {
     "data": {
      "text/plain": [
       "0.005779850383416602"
      ]
     },
     "execution_count": 234,
     "metadata": {},
     "output_type": "execute_result"
    }
   ],
   "source": [
    "gb_search.cv_results_['std_test_score'][8]"
   ]
  },
  {
   "cell_type": "code",
   "execution_count": 231,
   "metadata": {},
   "outputs": [
    {
     "name": "stdout",
     "output_type": "stream",
     "text": [
      "              precision    recall  f1-score   support\n",
      "\n",
      "           0       0.82      0.72      0.77       763\n",
      "           1       0.75      0.84      0.80       763\n",
      "\n",
      "    accuracy                           0.78      1526\n",
      "   macro avg       0.79      0.78      0.78      1526\n",
      "weighted avg       0.79      0.78      0.78      1526\n",
      "\n"
     ]
    }
   ],
   "source": [
    "gradient_booster = GradientBoostingClassifier(n_estimators = 100,learning_rate=0.05,max_depth = 2)\n",
    "gradient_booster.fit(train_X_RF,train_y)\n",
    "print(classification_report(test_y,gradient_booster.predict(test_X_RF)))"
   ]
  },
  {
   "cell_type": "code",
   "execution_count": 232,
   "metadata": {},
   "outputs": [
    {
     "name": "stdout",
     "output_type": "stream",
     "text": [
      "              precision    recall  f1-score   support\n",
      "\n",
      "           0       0.85      0.83      0.84      2927\n",
      "           1       0.83      0.85      0.84      2927\n",
      "\n",
      "    accuracy                           0.84      5854\n",
      "   macro avg       0.84      0.84      0.84      5854\n",
      "weighted avg       0.84      0.84      0.84      5854\n",
      "\n"
     ]
    }
   ],
   "source": [
    "print(classification_report(train_y,gradient_booster.predict(train_X_RF)))"
   ]
  },
  {
   "cell_type": "code",
   "execution_count": 243,
   "metadata": {},
   "outputs": [
    {
     "name": "stdout",
     "output_type": "stream",
     "text": [
      "0.21559633027522937\n",
      "0.15937820293816193\n"
     ]
    }
   ],
   "source": [
    "GB_test_rmse = mean_squared_error(test_y, gradient_booster.predict(test_X_RF), squared=True)\n",
    "GB_train_rmse = mean_squared_error(train_y, gradient_booster.predict(train_X_RF), squared=True)\n",
    "print(GB_test_rmse)\n",
    "print(GB_train_rmse)"
   ]
  },
  {
   "cell_type": "code",
   "execution_count": null,
   "metadata": {},
   "outputs": [],
   "source": []
  }
 ],
 "metadata": {
  "interpreter": {
   "hash": "aee8b7b246df8f9039afb4144a1f6fd8d2ca17a180786b69acc140d282b71a49"
  },
  "kernelspec": {
   "display_name": "Python 3.8.2 64-bit",
   "language": "python",
   "name": "python3"
  },
  "language_info": {
   "codemirror_mode": {
    "name": "ipython",
    "version": 3
   },
   "file_extension": ".py",
   "mimetype": "text/x-python",
   "name": "python",
   "nbconvert_exporter": "python",
   "pygments_lexer": "ipython3",
   "version": "3.8.2"
  },
  "orig_nbformat": 4
 },
 "nbformat": 4,
 "nbformat_minor": 2
}
